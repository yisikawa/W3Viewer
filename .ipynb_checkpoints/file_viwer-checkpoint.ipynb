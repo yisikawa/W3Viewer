{
 "cells": [
  {
   "cell_type": "code",
   "execution_count": 1,
   "id": "70448c12-319d-4c76-a40c-37f8eaba2abd",
   "metadata": {},
   "outputs": [],
   "source": [
    "import struct"
   ]
  },
  {
   "cell_type": "code",
   "execution_count": 24,
   "id": "cc6bcee8-05b5-4c4e-82b8-67020f84d22a",
   "metadata": {
    "tags": []
   },
   "outputs": [],
   "source": [
    "# file_name = 'cat/t_01__cat_cs.w2ent'\n",
    "file_name = 'cat/t_01__cat_cs.w2mesh'\n",
    "# file_name = 'cat/cat_animation.w2anims'\n",
    "# file_name = 'cat/cat_base.w2ent'\n",
    "# file_name = 'cat/cat_base.w2rig'"
   ]
  },
  {
   "cell_type": "code",
   "execution_count": 25,
   "id": "03d3cbfd-3db3-40f8-9290-42be42769687",
   "metadata": {
    "tags": []
   },
   "outputs": [
    {
     "name": "stdout",
     "output_type": "stream",
     "text": [
      "stringChunkStart= 160 stringChunkSize 1386\n",
      "stringChunkEnd= 1546 nbStrings= 105\n",
      "contentChunkStart= 2442 contentChunkSize= 2\n"
     ]
    }
   ],
   "source": [
    "with open(file_name, 'rb') as f:\n",
    "    data=f.read(160)\n",
    "    stringChunkStart,stringChunkSize = struct.unpack('ii',data[40:48])\n",
    "    print('stringChunkStart=',stringChunkStart,'stringChunkSize',stringChunkSize)\n",
    "    stringChunkEnd,nbStrings = struct.unpack('ii',data[52:60])\n",
    "    print('stringChunkEnd=',stringChunkEnd,'nbStrings=',nbStrings)\n",
    "    contentChunkStart,contentChunkSize = struct.unpack('ii',data[88:96])\n",
    "    print('contentChunkStart=',contentChunkStart,'contentChunkSize=',contentChunkSize)"
   ]
  },
  {
   "cell_type": "code",
   "execution_count": 27,
   "id": "68ffbccb-ba7a-446e-9179-0412021607c1",
   "metadata": {},
   "outputs": [
    {
     "name": "stdout",
     "output_type": "stream",
     "text": [
      "CMesh\n",
      "materialNames\n",
      "array:2,0,String\n",
      "materials\n",
      "array:2,0,handle:IMaterial\n",
      "CMaterialInstance\n",
      "baseMaterial\n",
      "handle:IMaterial\n",
      "CMaterialGraph\n",
      "Diffuse\n",
      "handle:ITexture\n",
      "CBitmapTexture\n",
      "Normal\n",
      "TintMask\n",
      "AOPower\n",
      "Float\n",
      "FresnelPower\n",
      "FresnelStrenght\n",
      "SpecularColor\n",
      "Color\n",
      "Red\n",
      "Uint8\n",
      "Green\n",
      "Blue\n",
      "Alpha\n",
      "DetailNormal\n",
      "Translucency\n",
      "boundingBox\n",
      "Box\n",
      "Min\n",
      "Vector\n",
      "X\n",
      "Y\n",
      "Z\n",
      "W\n",
      "Max\n",
      "autoHideDistance\n",
      "generalizedMeshRadius\n",
      "chunks\n",
      "array:2,0,SMeshChunkPacked\n",
      "vertexType\n",
      "EMeshVertexType\n",
      "MVT_SkinnedMesh\n",
      "numBonesPerVertex\n",
      "numVertices\n",
      "Uint32\n",
      "numIndices\n",
      "firstVertex\n",
      "firstIndex\n",
      "useForShadowmesh\n",
      "Bool\n",
      "rawVertices\n",
      "DeferredDataBuffer\n",
      "rawIndices\n",
      "cookedData\n",
      "SMeshCookedData\n",
      "collisionInitPositionOffset\n",
      "bonePositions\n",
      "array:46,0,Vector\n",
      "renderLODs\n",
      "array:46,0,Float\n",
      "renderChunks\n",
      "array:46,0,Uint8\n",
      "renderBuffer\n",
      "quantizationScale\n",
      "quantizationOffset\n",
      "vertexBufferSize\n",
      "indexBufferSize\n",
      "indexBufferOffset\n",
      "internalVersion\n",
      "chunksBuffer\n",
      "head\n",
      "l_backpaw\n",
      "l_bicep\n",
      "l_foot\n",
      "l_forearm\n",
      "l_frontpaw\n",
      "l_hand\n",
      "l_shin\n",
      "l_shoulder\n",
      "l_thigh\n",
      "neck\n",
      "neck1\n",
      "pelvis\n",
      "r_backpaw\n",
      "r_bicep\n",
      "r_ear\n",
      "r_foot\n",
      "r_forearm\n",
      "r_frontpaw\n",
      "r_hand\n",
      "r_shin\n",
      "r_shoulder\n",
      "r_thigh\n",
      "spine1\n",
      "spine2\n",
      "spine3\n",
      "tail1\n",
      "tail2\n",
      "tail3\n",
      "tail4\n",
      "tail5\n",
      "l_ear\n",
      "jaw\n",
      "engine\\materials\\graphs\\pbr_std_tint_mask_det_fresnel.w2mg\n",
      "characters\\models\\animals\\cat\\model\\t_01__cat_cs_d01.xbm\n",
      "characters\\models\\animals\\cat\\model\\t_01__cat_cs_n01.xbm\n",
      "characters\\models\\animals\\cat\\model\\t_01__cat_cs_a01.xbm\n",
      "engine\\textures\\editor\\normal.xbm\n",
      "\n",
      "\n"
     ]
    }
   ],
   "source": [
    "with open(file_name, 'rb') as f:\n",
    "    f.seek(stringChunkStart+1)\n",
    "    strs = f.read(stringChunkSize)\n",
    "    arry = strs.split(b'\\x00')\n",
    "    for str in arry: \n",
    "        # print(str)\n",
    "        print(str.decode())"
   ]
  },
  {
   "cell_type": "code",
   "execution_count": null,
   "id": "2d6a165b-0989-40dc-b469-daedd739144c",
   "metadata": {},
   "outputs": [],
   "source": []
  }
 ],
 "metadata": {
  "kernelspec": {
   "display_name": "Python 3 (ipykernel)",
   "language": "python",
   "name": "python3"
  },
  "language_info": {
   "codemirror_mode": {
    "name": "ipython",
    "version": 3
   },
   "file_extension": ".py",
   "mimetype": "text/x-python",
   "name": "python",
   "nbconvert_exporter": "python",
   "pygments_lexer": "ipython3",
   "version": "3.7.9"
  }
 },
 "nbformat": 4,
 "nbformat_minor": 5
}
