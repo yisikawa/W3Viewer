{
 "cells": [
  {
   "cell_type": "code",
   "execution_count": 1,
   "id": "70448c12-319d-4c76-a40c-37f8eaba2abd",
   "metadata": {},
   "outputs": [],
   "source": [
    "import struct"
   ]
  },
  {
   "cell_type": "code",
   "execution_count": 35,
   "id": "fb3ed34e-5a39-4004-a2e5-06ea7dfd1485",
   "metadata": {},
   "outputs": [],
   "source": [
    "class FileTable:\n",
    "        \n",
    "    def __init__(self,fileName):\n",
    "        self.fileName = fileName\n",
    "        with open(self.fileName, 'rb') as f:\n",
    "            data=f.read(160)\n",
    "        self.stringChunkStart,self.stringChunkSize = struct.unpack('ii',data[40:48])\n",
    "        self.stringChunkEnd,self.nbStrings = struct.unpack('ii',data[52:60])\n",
    "        self.contentChunkStart,self.contentChunkSize = struct.unpack('ii',data[88:96])\n",
    "        self.get_strs()\n",
    "        \n",
    "    def get_strs(self):\n",
    "        with open(self.fileName, 'rb') as f:\n",
    "            f.seek(self.stringChunkStart+1)\n",
    "            strs = f.read(self.stringChunkSize)\n",
    "        arry = strs.split(b'\\x00')\n",
    "        self.strArry = [str.decode() for str in arry]\n",
    "        \n",
    "    def get_infos(self):\n",
    "        with open(self.fileName, 'rb') as f:\n",
    "            f.seek(self.contentChunkStart+1)\n",
    "            for num in range(self.contentChunkSize):\n",
    "                data = f.read(24)\n",
    "                dataType = struct.unpack('h',data[0:2])[0]\n",
    "                infoSize,infoAdress = struct.unpack('ii',data[8:16])\n",
    "                print(self.strArry[dataType],infoSize,infoAdress)\n"
   ]
  },
  {
   "cell_type": "code",
   "execution_count": 36,
   "id": "fb34e970-f9ed-4efd-8983-ae97ed82f343",
   "metadata": {},
   "outputs": [
    {
     "name": "stdout",
     "output_type": "stream",
     "text": [
      "CMesh 1728053267 9\n",
      "CMesh -1711276032 28\n"
     ]
    }
   ],
   "source": [
    "temp = FileTable('cat/t_01__cat_cs.w2mesh')\n",
    "temp.get_infos()"
   ]
  },
  {
   "cell_type": "code",
   "execution_count": 2,
   "id": "cc6bcee8-05b5-4c4e-82b8-67020f84d22a",
   "metadata": {
    "tags": []
   },
   "outputs": [],
   "source": [
    "# file_name = 'cat/t_01__cat_cs.w2ent'\n",
    "# file_name = 'cat/t_01__cat_cs.w2mesh'\n",
    "# file_name = 'cat/cat_animation.w2anims'\n",
    "# file_name = 'cat/cat_base.w2ent'\n",
    "# file_name = 'cat/cat_base.w2rig'"
   ]
  },
  {
   "cell_type": "code",
   "execution_count": null,
   "id": "2d6a165b-0989-40dc-b469-daedd739144c",
   "metadata": {},
   "outputs": [],
   "source": []
  }
 ],
 "metadata": {
  "kernelspec": {
   "display_name": "Python 3 (ipykernel)",
   "language": "python",
   "name": "python3"
  },
  "language_info": {
   "codemirror_mode": {
    "name": "ipython",
    "version": 3
   },
   "file_extension": ".py",
   "mimetype": "text/x-python",
   "name": "python",
   "nbconvert_exporter": "python",
   "pygments_lexer": "ipython3",
   "version": "3.7.9"
  }
 },
 "nbformat": 4,
 "nbformat_minor": 5
}
